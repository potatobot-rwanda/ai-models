{
 "cells": [
  {
   "cell_type": "code",
   "execution_count": null,
   "id": "8d43cd71",
   "metadata": {},
   "outputs": [
    {
     "data": {
      "text/html": [
       "<div>\n",
       "<style scoped>\n",
       "    .dataframe tbody tr th:only-of-type {\n",
       "        vertical-align: middle;\n",
       "    }\n",
       "\n",
       "    .dataframe tbody tr th {\n",
       "        vertical-align: top;\n",
       "    }\n",
       "\n",
       "    .dataframe thead th {\n",
       "        text-align: right;\n",
       "    }\n",
       "</style>\n",
       "<table border=\"1\" class=\"dataframe\">\n",
       "  <thead>\n",
       "    <tr style=\"text-align: right;\">\n",
       "      <th></th>\n",
       "      <th>sentence_id</th>\n",
       "      <th>words</th>\n",
       "      <th>labels</th>\n",
       "      <th>dataset</th>\n",
       "    </tr>\n",
       "  </thead>\n",
       "  <tbody>\n",
       "  </tbody>\n",
       "</table>\n",
       "</div>"
      ],
      "text/plain": [
       "Empty DataFrame\n",
       "Columns: [sentence_id, words, labels, dataset]\n",
       "Index: []"
      ]
     },
     "execution_count": 39,
     "metadata": {},
     "output_type": "execute_result"
    }
   ],
   "source": [
    "# adapted from https://simpletransformers.ai/docs/ner-minimal-start/\n",
    "\n",
    "# load dataset\n",
    "\n",
    "import logging\n",
    "import pandas as pd\n",
    "from simpletransformers.ner import NERModel, NERArgs\n",
    "\n",
    "logging.basicConfig(level=logging.INFO)\n",
    "transformers_logger = logging.getLogger(\"transformers\")\n",
    "transformers_logger.setLevel(logging.WARNING)\n",
    "\n",
    "df = pd.read_csv(\"../../data/experimental/eng_dataset.csv\")\n",
    "\n",
    "df[\"words\"] = df.words.fillna(\"\")\n",
    "\n",
    "df_train = df.query(\"dataset=='train'\")\n",
    "df_valid = df.query(\"dataset=='valid'\")\n",
    "df_test = df.query(\"dataset=='test'\")"
   ]
  },
  {
   "cell_type": "code",
   "execution_count": 41,
   "id": "7bf617d2",
   "metadata": {},
   "outputs": [
    {
     "name": "stderr",
     "output_type": "stream",
     "text": [
      "Some weights of RobertaForTokenClassification were not initialized from the model checkpoint at roberta-base and are newly initialized: ['classifier.bias', 'classifier.weight']\n",
      "You should probably TRAIN this model on a down-stream task to be able to use it for predictions and inference.\n",
      "INFO:simpletransformers.ner.ner_model: Converting to features started.\n",
      "100%|██████████| 1/1 [00:05<00:00,  5.79s/it]\n",
      "Epochs 1/3. Running Loss:    0.1526: 100%|██████████| 22/22 [01:17<00:00,  3.54s/it]\n",
      "INFO:simpletransformers.ner.ner_model: Converting to features started.\n",
      "100%|██████████| 1/1 [00:05<00:00,  5.66s/it]\n",
      "Running Evaluation: 100%|██████████| 1/1 [00:01<00:00,  1.34s/it]\n",
      "Epochs 2/3. Running Loss:    0.0300: 100%|██████████| 22/22 [33:26<00:00, 91.22s/it]\n",
      "INFO:simpletransformers.ner.ner_model: Converting to features started.\n",
      "100%|██████████| 1/1 [00:05<00:00,  5.58s/it]\n",
      "Running Evaluation: 100%|██████████| 1/1 [00:02<00:00,  2.01s/it]\n",
      "Epochs 3/3. Running Loss:    0.0171: 100%|██████████| 22/22 [1:01:32<00:00, 167.85s/it]\n",
      "INFO:simpletransformers.ner.ner_model: Converting to features started.\n",
      "100%|██████████| 1/1 [00:05<00:00,  5.43s/it]\n",
      "Running Evaluation: 100%|██████████| 1/1 [00:02<00:00,  2.39s/it]\n",
      "Epoch 3 of 3: 100%|██████████| 3/3 [1:51:50<00:00, 2236.67s/it]\n",
      "INFO:simpletransformers.ner.ner_model: Training of roberta model complete. Saved to outputs/.\n"
     ]
    },
    {
     "data": {
      "text/plain": [
       "(66,\n",
       " defaultdict(list,\n",
       "             {'global_step': [22, 44, 66],\n",
       "              'train_loss': [0.15263675153255463,\n",
       "               0.029998715966939926,\n",
       "               0.017085831612348557],\n",
       "              'eval_loss': [0.21413953602313995,\n",
       "               0.08134108781814575,\n",
       "               0.0945669636130333],\n",
       "              'precision': [np.float64(0.660377358490566),\n",
       "               np.float64(0.851063829787234),\n",
       "               np.float64(0.8913043478260869)],\n",
       "              'recall': [np.float64(0.7777777777777778),\n",
       "               np.float64(0.8888888888888888),\n",
       "               np.float64(0.9111111111111111)],\n",
       "              'f1_score': [np.float64(0.7142857142857142),\n",
       "               np.float64(0.8695652173913044),\n",
       "               np.float64(0.9010989010989011)]}))"
      ]
     },
     "execution_count": 41,
     "metadata": {},
     "output_type": "execute_result"
    }
   ],
   "source": [
    "# train model\n",
    "\n",
    "model_args = NERArgs()\n",
    "model_args.train_batch_size = 16\n",
    "model_args.evaluate_during_training = True\n",
    "model_args.overwrite_output_dir = True\n",
    "model_args.labels_list = df.labels.unique().tolist()\n",
    "model_args.num_train_epochs = 3\n",
    "\n",
    "model = NERModel(\n",
    "    \"roberta\", \"roberta-base\", args=model_args, use_cuda=False, \n",
    ")\n",
    "\n",
    "# Train the model\n",
    "model.train_model(df_train, eval_data=df_valid)"
   ]
  },
  {
   "cell_type": "code",
   "execution_count": 43,
   "id": "09e53ca2",
   "metadata": {},
   "outputs": [
    {
     "name": "stderr",
     "output_type": "stream",
     "text": [
      "INFO:simpletransformers.ner.ner_model: Converting to features started.\n",
      "100%|██████████| 1/1 [00:06<00:00,  6.44s/it]\n",
      "Running Evaluation: 100%|██████████| 1/1 [00:01<00:00,  1.90s/it]\n",
      "INFO:simpletransformers.ner.ner_model:{'eval_loss': 0.061059463769197464, 'precision': np.float64(0.8166666666666667), 'recall': np.float64(0.9423076923076923), 'f1_score': np.float64(0.8749999999999999)}\n",
      "INFO:simpletransformers.ner.ner_model: Converting to features started.\n",
      "100%|██████████| 1/1 [00:04<00:00,  4.53s/it]\n",
      "Running Prediction: 100%|██████████| 1/1 [00:00<00:00,  6.78it/s]\n"
     ]
    },
    {
     "data": {
      "text/plain": [
       "{'eval_loss': 0.061059463769197464,\n",
       " 'precision': np.float64(0.8166666666666667),\n",
       " 'recall': np.float64(0.9423076923076923),\n",
       " 'f1_score': np.float64(0.8749999999999999)}"
      ]
     },
     "execution_count": 43,
     "metadata": {},
     "output_type": "execute_result"
    }
   ],
   "source": [
    "# Evaluate the model\n",
    "result, model_outputs, preds_list = model.eval_model(df.query(\"dataset=='test'\"))\n",
    "\n",
    "# Make predictions with the model\n",
    "predictions, raw_outputs = model.predict([\"Hermione was the best in her class\"])\n",
    "\n",
    "result"
   ]
  },
  {
   "cell_type": "code",
   "execution_count": 69,
   "id": "69e3455f",
   "metadata": {},
   "outputs": [
    {
     "name": "stderr",
     "output_type": "stream",
     "text": [
      "INFO:simpletransformers.ner.ner_model: Converting to features started.\n",
      "100%|██████████| 1/1 [00:04<00:00,  4.51s/it]\n",
      "Running Prediction: 100%|██████████| 1/1 [00:00<00:00,  7.66it/s]\n"
     ]
    },
    {
     "data": {
      "text/plain": [
       "[{'span': 'Musanze.', 'type': 'LOCATION'}]"
      ]
     },
     "execution_count": 69,
     "metadata": {},
     "output_type": "execute_result"
    }
   ],
   "source": [
    "def predict_entities(model, sentence):\n",
    "    prediction = model.predict([sentence])\n",
    "    entities = []\n",
    "    entity = []\n",
    "    for word in prediction[0][0]:\n",
    "        for key, value in word.items():\n",
    "            if value != \"O\":\n",
    "                entity.append(key)\n",
    "            if value == \"O\" and len(entity):\n",
    "                entities.append({\n",
    "                    \"span\": \" \".join(entity),\n",
    "                    \"type\": value[2:]\n",
    "                })\n",
    "    if len(entity) > 0:\n",
    "        entities.append({\n",
    "            \"span\": \" \".join(entity),\n",
    "            \"type\": value[2:]\n",
    "        })\n",
    "\n",
    "    return entities\n",
    "\n",
    "predict_entities(model, \"My farm is in Musanze.\")"
   ]
  }
 ],
 "metadata": {
  "kernelspec": {
   "display_name": "potatobot",
   "language": "python",
   "name": "python3"
  },
  "language_info": {
   "codemirror_mode": {
    "name": "ipython",
    "version": 3
   },
   "file_extension": ".py",
   "mimetype": "text/x-python",
   "name": "python",
   "nbconvert_exporter": "python",
   "pygments_lexer": "ipython3",
   "version": "3.13.5"
  }
 },
 "nbformat": 4,
 "nbformat_minor": 5
}
